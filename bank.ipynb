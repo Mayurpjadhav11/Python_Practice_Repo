{
 "cells": [
  {
   "cell_type": "code",
   "execution_count": 2,
   "id": "529c3105",
   "metadata": {},
   "outputs": [],
   "source": [
    "class BankAccount:\n",
    "    def __init__(self, owner, balance):\n",
    "        self.owner = owner\n",
    "        self.balance = balance\n",
    "    \n",
    "    def deposit(self, amount):\n",
    "        self.balance+=amount\n",
    "        print(f\"{amount} has been deposited and new balace is {self.balance}\")\n",
    "    def withdraw(self, amount):\n",
    "        if amount > self.balance:\n",
    "            print(\"Insufficient balance\")\n",
    "        else:\n",
    "            self.balance-=amount\n",
    "            print(f\"{amount} has been withdraw and new balace is {self.balance}\")\n",
    "    def balance_check(self):\n",
    "        print(self.balance)"
   ]
  },
  {
   "cell_type": "code",
   "execution_count": 5,
   "id": "1a7afdd9",
   "metadata": {},
   "outputs": [
    {
     "name": "stdout",
     "output_type": "stream",
     "text": [
      "10000\n"
     ]
    }
   ],
   "source": [
    "details = BankAccount(\"Mayur\", 10000)\n",
    "print(details.balance)"
   ]
  },
  {
   "cell_type": "code",
   "execution_count": 6,
   "id": "1e55ca3f",
   "metadata": {},
   "outputs": [
    {
     "name": "stdout",
     "output_type": "stream",
     "text": [
      "5000 has been deposited and new balace is 15000\n"
     ]
    }
   ],
   "source": [
    "details.deposit(5000)"
   ]
  },
  {
   "cell_type": "code",
   "execution_count": 7,
   "id": "b459f10c",
   "metadata": {},
   "outputs": [
    {
     "name": "stdout",
     "output_type": "stream",
     "text": [
      "200 has been withdraw and new balace is 14800\n"
     ]
    }
   ],
   "source": [
    "details.withdraw(200)"
   ]
  },
  {
   "cell_type": "code",
   "execution_count": 8,
   "id": "38ff81d8",
   "metadata": {},
   "outputs": [
    {
     "name": "stdout",
     "output_type": "stream",
     "text": [
      "14800\n"
     ]
    }
   ],
   "source": [
    "details.balance_check()"
   ]
  }
 ],
 "metadata": {
  "kernelspec": {
   "display_name": "gymenv",
   "language": "python",
   "name": "python3"
  },
  "language_info": {
   "codemirror_mode": {
    "name": "ipython",
    "version": 3
   },
   "file_extension": ".py",
   "mimetype": "text/x-python",
   "name": "python",
   "nbconvert_exporter": "python",
   "pygments_lexer": "ipython3",
   "version": "3.11.8"
  }
 },
 "nbformat": 4,
 "nbformat_minor": 5
}
